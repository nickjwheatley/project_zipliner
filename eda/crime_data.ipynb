{
 "cells": [
  {
   "cell_type": "code",
   "execution_count": 15,
   "metadata": {},
   "outputs": [],
   "source": [
    "import pandas as pd\n",
    "\n",
    "file_path = '/Users/christopherorem/Downloads/stateTables/United_States_Offense_Type_by_Agency_2022v2.xlsx'\n",
    "\n",
    "df = pd.read_excel(file_path)\n"
   ]
  },
  {
   "cell_type": "code",
   "execution_count": 16,
   "metadata": {},
   "outputs": [
    {
     "name": "stdout",
     "output_type": "stream",
     "text": [
      "     State            City  Population  Total Offenses  \\\n",
      "0  ALABAMA       Abbeville        2390             301   \n",
      "1  ALABAMA      Adamsville        4233             528   \n",
      "2  ALABAMA         Addison         672              72   \n",
      "3  ALABAMA       Alabaster       33974            1524   \n",
      "4  ALABAMA  Alexander City       14476            1834   \n",
      "\n",
      "   Crimes Against Persons  Crimes Against Property  Crimes Against Society  \\\n",
      "0                      96                       76                     129   \n",
      "1                      72                      332                     124   \n",
      "2                      20                       41                      11   \n",
      "3                     293                      979                     252   \n",
      "4                     696                      816                     322   \n",
      "\n",
      "   Crimes Rate  \n",
      "0     0.125941  \n",
      "1     0.124734  \n",
      "2     0.107143  \n",
      "3     0.044858  \n",
      "4     0.126692  \n"
     ]
    }
   ],
   "source": [
    "# Display the updated DataFrame\n",
    "print(df.head())"
   ]
  },
  {
   "cell_type": "code",
   "execution_count": 17,
   "metadata": {},
   "outputs": [
    {
     "name": "stdout",
     "output_type": "stream",
     "text": [
      "6916\n"
     ]
    }
   ],
   "source": [
    "print(len(df))"
   ]
  }
 ],
 "metadata": {
  "kernelspec": {
   "display_name": "Python 3",
   "language": "python",
   "name": "python3"
  },
  "language_info": {
   "codemirror_mode": {
    "name": "ipython",
    "version": 3
   },
   "file_extension": ".py",
   "mimetype": "text/x-python",
   "name": "python",
   "nbconvert_exporter": "python",
   "pygments_lexer": "ipython3",
   "version": "3.9.4"
  }
 },
 "nbformat": 4,
 "nbformat_minor": 2
}
