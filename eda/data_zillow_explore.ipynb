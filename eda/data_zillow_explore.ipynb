{
 "cells": [
  {
   "cell_type": "code",
   "execution_count": 1,
   "metadata": {},
   "outputs": [],
   "source": [
    "# Extracted from https://www.zillow.com/research/data/"
   ]
  },
  {
   "cell_type": "code",
   "execution_count": 2,
   "metadata": {},
   "outputs": [],
   "source": [
    "import sys\n",
    "# !{sys.executable} -m pip install pandas\n",
    "# !{sys.executable} -m pip install pyarrow\n",
    "# !{sys.executable} -m pip install fastparquet"
   ]
  },
  {
   "cell_type": "code",
   "execution_count": 3,
   "metadata": {},
   "outputs": [],
   "source": [
    "import pandas as pd\n",
    "import os"
   ]
  },
  {
   "cell_type": "markdown",
   "metadata": {},
   "source": [
    "## Extract ZHVI from Zillow\n",
    "\n",
    "Zillow Home Value Index (ZHVI): A measure of the typical home value and market changes across a given region and housing type. It reflects the typical value for homes in the 35th to 65th percentile range. Available as a smoothed, seasonally adjusted measure and as a raw measure.\n",
    "\n",
    "Zillow publishes top-tier ZHVI (typical value for homes within the 65th to 95th percentile range for a given region) and bottom-tier ZHVI (typical value for homes within the 5th to 35th percentile range for a given region).\n",
    "\n",
    "Zillow also publishes ZHVI for all single-family residences ($, typical value for all single-family homes in a given region), for condo/coops ($), for all homes with 1, 2, 3, 4 and 5+ bedrooms ($), and the ZHVI per square foot ($, typical value of all homes per square foot calculated by taking the estimated home value for each home in a given region and dividing it by the home’s square footage)."
   ]
  },
  {
   "cell_type": "code",
   "execution_count": 4,
   "metadata": {},
   "outputs": [],
   "source": [
    "def extract_zillow_data(bedrooms=4, force=False, cache=True):\n",
    "    cache_filename = f'zillow_zhvi_{bedrooms}br'\n",
    "    force = False\n",
    "    if (os.path.isfile(f'../data/raw/{cache_filename}.parquet') & (not force) & cache) :\n",
    "        zillow = pd.read_parquet(f'../data/raw/{cache_filename}.parquet')\n",
    "    else:\n",
    "        print('UPDATING ZILLOW DATA')\n",
    "        zillow_url = f'https://files.zillowstatic.com/research/public_csvs/zhvi/Zip_zhvi_bdrmcnt_{bedrooms}_uc_sfrcondo_tier_0.33_0.67_sm_sa_month.csv?t=1676324507'\n",
    "        zillow = pd.read_csv(zillow_url)\n",
    "        if cache:\n",
    "            zillow.to_parquet(f'../data/raw/{cache_filename}.parquet',index=False)\n",
    "\n",
    "    drop_cols = ['RegionID','SizeRank','RegionType']\n",
    "\n",
    "    zillow_melted = zillow.drop(drop_cols, axis=1).melt(\n",
    "        id_vars = ['RegionName','StateName','State','City','Metro','CountyName'],\n",
    "        var_name = 'date',\n",
    "        value_name='zhvi'\n",
    "    ).rename(columns={'RegionName':'zip_code','StateName':'state_name','CountyName':'county_name'})\n",
    "\n",
    "    zillow_melted.columns = [col.lower() for col in zillow_melted.columns]\n",
    "    if cache:\n",
    "        zillow_melted.to_parquet(f'../data/processed/{cache_filename}.parquet',index=False)\n",
    "    zillow_melted['bedrooms'] = bedrooms\n",
    "    return zillow_melted"
   ]
  },
  {
   "cell_type": "code",
   "execution_count": 5,
   "metadata": {
    "scrolled": true
   },
   "outputs": [
    {
     "name": "stdout",
     "output_type": "stream",
     "text": [
      "extracting/cacheing zillow data for 1 bedroom units\n",
      "extracting/cacheing zillow data for 2 bedroom units\n",
      "extracting/cacheing zillow data for 3 bedroom units\n",
      "extracting/cacheing zillow data for 4 bedroom units\n",
      "extracting/cacheing zillow data for 5 bedroom units\n"
     ]
    }
   ],
   "source": [
    "datas = []\n",
    "for br in range(1,6):\n",
    "    print(f'extracting/cacheing zillow data for {br} bedroom units')\n",
    "    datas.append(extract_zillow_data(br))"
   ]
  },
  {
   "cell_type": "code",
   "execution_count": 6,
   "metadata": {},
   "outputs": [
    {
     "data": {
      "text/html": [
       "<div>\n",
       "<style scoped>\n",
       "    .dataframe tbody tr th:only-of-type {\n",
       "        vertical-align: middle;\n",
       "    }\n",
       "\n",
       "    .dataframe tbody tr th {\n",
       "        vertical-align: top;\n",
       "    }\n",
       "\n",
       "    .dataframe thead th {\n",
       "        text-align: right;\n",
       "    }\n",
       "</style>\n",
       "<table border=\"1\" class=\"dataframe\">\n",
       "  <thead>\n",
       "    <tr style=\"text-align: right;\">\n",
       "      <th></th>\n",
       "      <th>zip_code</th>\n",
       "      <th>state_name</th>\n",
       "      <th>state</th>\n",
       "      <th>city</th>\n",
       "      <th>metro</th>\n",
       "      <th>county_name</th>\n",
       "      <th>date</th>\n",
       "      <th>zhvi</th>\n",
       "      <th>bedrooms</th>\n",
       "    </tr>\n",
       "  </thead>\n",
       "  <tbody>\n",
       "    <tr>\n",
       "      <th>0</th>\n",
       "      <td>8701</td>\n",
       "      <td>NJ</td>\n",
       "      <td>NJ</td>\n",
       "      <td>Lakewood</td>\n",
       "      <td>New York-Newark-Jersey City, NY-NJ-PA</td>\n",
       "      <td>Ocean County</td>\n",
       "      <td>2000-01-31</td>\n",
       "      <td>4.660902e+04</td>\n",
       "      <td>1</td>\n",
       "    </tr>\n",
       "    <tr>\n",
       "      <th>1</th>\n",
       "      <td>11368</td>\n",
       "      <td>NY</td>\n",
       "      <td>NY</td>\n",
       "      <td>New York</td>\n",
       "      <td>New York-Newark-Jersey City, NY-NJ-PA</td>\n",
       "      <td>Queens County</td>\n",
       "      <td>2000-01-31</td>\n",
       "      <td>NaN</td>\n",
       "      <td>1</td>\n",
       "    </tr>\n",
       "    <tr>\n",
       "      <th>2</th>\n",
       "      <td>77084</td>\n",
       "      <td>TX</td>\n",
       "      <td>TX</td>\n",
       "      <td>Houston</td>\n",
       "      <td>Houston-The Woodlands-Sugar Land, TX</td>\n",
       "      <td>Harris County</td>\n",
       "      <td>2000-01-31</td>\n",
       "      <td>NaN</td>\n",
       "      <td>1</td>\n",
       "    </tr>\n",
       "    <tr>\n",
       "      <th>3</th>\n",
       "      <td>11385</td>\n",
       "      <td>NY</td>\n",
       "      <td>NY</td>\n",
       "      <td>New York</td>\n",
       "      <td>New York-Newark-Jersey City, NY-NJ-PA</td>\n",
       "      <td>Queens County</td>\n",
       "      <td>2000-01-31</td>\n",
       "      <td>NaN</td>\n",
       "      <td>1</td>\n",
       "    </tr>\n",
       "    <tr>\n",
       "      <th>4</th>\n",
       "      <td>90011</td>\n",
       "      <td>CA</td>\n",
       "      <td>CA</td>\n",
       "      <td>Los Angeles</td>\n",
       "      <td>Los Angeles-Long Beach-Anaheim, CA</td>\n",
       "      <td>Los Angeles County</td>\n",
       "      <td>2000-01-31</td>\n",
       "      <td>7.137766e+04</td>\n",
       "      <td>1</td>\n",
       "    </tr>\n",
       "    <tr>\n",
       "      <th>...</th>\n",
       "      <td>...</td>\n",
       "      <td>...</td>\n",
       "      <td>...</td>\n",
       "      <td>...</td>\n",
       "      <td>...</td>\n",
       "      <td>...</td>\n",
       "      <td>...</td>\n",
       "      <td>...</td>\n",
       "      <td>...</td>\n",
       "    </tr>\n",
       "    <tr>\n",
       "      <th>2498113</th>\n",
       "      <td>96141</td>\n",
       "      <td>CA</td>\n",
       "      <td>CA</td>\n",
       "      <td>Homewood</td>\n",
       "      <td>Sacramento-Roseville-Folsom, CA</td>\n",
       "      <td>Placer County</td>\n",
       "      <td>2024-05-31</td>\n",
       "      <td>2.286039e+06</td>\n",
       "      <td>5</td>\n",
       "    </tr>\n",
       "    <tr>\n",
       "      <th>2498114</th>\n",
       "      <td>33924</td>\n",
       "      <td>FL</td>\n",
       "      <td>FL</td>\n",
       "      <td>None</td>\n",
       "      <td>Cape Coral-Fort Myers, FL</td>\n",
       "      <td>Lee County</td>\n",
       "      <td>2024-05-31</td>\n",
       "      <td>5.064301e+06</td>\n",
       "      <td>5</td>\n",
       "    </tr>\n",
       "    <tr>\n",
       "      <th>2498115</th>\n",
       "      <td>32461</td>\n",
       "      <td>FL</td>\n",
       "      <td>FL</td>\n",
       "      <td>Panama City Beach</td>\n",
       "      <td>Crestview-Fort Walton Beach-Destin, FL</td>\n",
       "      <td>Walton County</td>\n",
       "      <td>2024-05-31</td>\n",
       "      <td>4.117191e+06</td>\n",
       "      <td>5</td>\n",
       "    </tr>\n",
       "    <tr>\n",
       "      <th>2498116</th>\n",
       "      <td>27972</td>\n",
       "      <td>NC</td>\n",
       "      <td>NC</td>\n",
       "      <td>Salvo</td>\n",
       "      <td>Kill Devil Hills, NC</td>\n",
       "      <td>Dare County</td>\n",
       "      <td>2024-05-31</td>\n",
       "      <td>1.116508e+06</td>\n",
       "      <td>5</td>\n",
       "    </tr>\n",
       "    <tr>\n",
       "      <th>2498117</th>\n",
       "      <td>27982</td>\n",
       "      <td>NC</td>\n",
       "      <td>NC</td>\n",
       "      <td>Rodanthe</td>\n",
       "      <td>Kill Devil Hills, NC</td>\n",
       "      <td>Dare County</td>\n",
       "      <td>2024-05-31</td>\n",
       "      <td>9.676624e+05</td>\n",
       "      <td>5</td>\n",
       "    </tr>\n",
       "  </tbody>\n",
       "</table>\n",
       "<p>19005738 rows × 9 columns</p>\n",
       "</div>"
      ],
      "text/plain": [
       "         zip_code state_name state               city  \\\n",
       "0            8701         NJ    NJ           Lakewood   \n",
       "1           11368         NY    NY           New York   \n",
       "2           77084         TX    TX            Houston   \n",
       "3           11385         NY    NY           New York   \n",
       "4           90011         CA    CA        Los Angeles   \n",
       "...           ...        ...   ...                ...   \n",
       "2498113     96141         CA    CA           Homewood   \n",
       "2498114     33924         FL    FL               None   \n",
       "2498115     32461         FL    FL  Panama City Beach   \n",
       "2498116     27972         NC    NC              Salvo   \n",
       "2498117     27982         NC    NC           Rodanthe   \n",
       "\n",
       "                                          metro         county_name  \\\n",
       "0         New York-Newark-Jersey City, NY-NJ-PA        Ocean County   \n",
       "1         New York-Newark-Jersey City, NY-NJ-PA       Queens County   \n",
       "2          Houston-The Woodlands-Sugar Land, TX       Harris County   \n",
       "3         New York-Newark-Jersey City, NY-NJ-PA       Queens County   \n",
       "4            Los Angeles-Long Beach-Anaheim, CA  Los Angeles County   \n",
       "...                                         ...                 ...   \n",
       "2498113         Sacramento-Roseville-Folsom, CA       Placer County   \n",
       "2498114               Cape Coral-Fort Myers, FL          Lee County   \n",
       "2498115  Crestview-Fort Walton Beach-Destin, FL       Walton County   \n",
       "2498116                    Kill Devil Hills, NC         Dare County   \n",
       "2498117                    Kill Devil Hills, NC         Dare County   \n",
       "\n",
       "               date          zhvi  bedrooms  \n",
       "0        2000-01-31  4.660902e+04         1  \n",
       "1        2000-01-31           NaN         1  \n",
       "2        2000-01-31           NaN         1  \n",
       "3        2000-01-31           NaN         1  \n",
       "4        2000-01-31  7.137766e+04         1  \n",
       "...             ...           ...       ...  \n",
       "2498113  2024-05-31  2.286039e+06         5  \n",
       "2498114  2024-05-31  5.064301e+06         5  \n",
       "2498115  2024-05-31  4.117191e+06         5  \n",
       "2498116  2024-05-31  1.116508e+06         5  \n",
       "2498117  2024-05-31  9.676624e+05         5  \n",
       "\n",
       "[19005738 rows x 9 columns]"
      ]
     },
     "execution_count": 6,
     "metadata": {},
     "output_type": "execute_result"
    }
   ],
   "source": [
    "df = pd.concat(datas)\n",
    "df"
   ]
  },
  {
   "cell_type": "code",
   "execution_count": 14,
   "metadata": {},
   "outputs": [],
   "source": [
    "df.to_parquet('../data/processed/zillow_all_data.parquet', index=False)"
   ]
  },
  {
   "cell_type": "code",
   "execution_count": 10,
   "metadata": {},
   "outputs": [],
   "source": [
    "df_zip_br = df.groupby(['zip_code','bedrooms']).last()\n",
    "df_zip_br"
   ]
  },
  {
   "cell_type": "code",
   "execution_count": 13,
   "metadata": {},
   "outputs": [],
   "source": [
    "df_zip_br.to_csv('../data/processed/zillow_current_snapshot.csv')"
   ]
  },
  {
   "cell_type": "code",
   "execution_count": 9,
   "metadata": {},
   "outputs": [
    {
     "data": {
      "text/plain": [
       "20707"
      ]
     },
     "execution_count": 9,
     "metadata": {},
     "output_type": "execute_result"
    }
   ],
   "source": [
    "len(df.loc[df.date == '2024-05-31'].zip_code.unique())"
   ]
  },
  {
   "cell_type": "code",
   "execution_count": 9,
   "metadata": {},
   "outputs": [
    {
     "data": {
      "text/plain": [
       "2712"
      ]
     },
     "execution_count": 9,
     "metadata": {},
     "output_type": "execute_result"
    }
   ],
   "source": [
    "len(datas[0][['city','state']].drop_duplicates())"
   ]
  }
 ],
 "metadata": {
  "kernelspec": {
   "display_name": "zipliner",
   "language": "python",
   "name": "zipliner"
  },
  "language_info": {
   "codemirror_mode": {
    "name": "ipython",
    "version": 3
   },
   "file_extension": ".py",
   "mimetype": "text/x-python",
   "name": "python",
   "nbconvert_exporter": "python",
   "pygments_lexer": "ipython3",
   "version": "3.7.4"
  }
 },
 "nbformat": 4,
 "nbformat_minor": 2
}
